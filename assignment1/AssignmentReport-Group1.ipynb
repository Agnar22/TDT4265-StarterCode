{
 "cells": [
  {
   "cell_type": "markdown",
   "metadata": {},
   "source": [
    "# Assignment 1 Report"
   ]
  },
  {
   "cell_type": "markdown",
   "metadata": {},
   "source": [
    "This is an outline for your report to ease the amount of work required to create your report. Jupyter notebook supports markdown, and I recommend you to check out this [cheat sheet](https://github.com/adam-p/markdown-here/wiki/Markdown-Cheatsheet). If you are not familiar with markdown.\n",
    "\n",
    "Before delivery, **remember to convert this file to PDF**. You can do it in two ways:\n",
    "1. Print the webpage (ctrl+P or cmd+P)\n",
    "2. Export with latex. This is somewhat more difficult, but you'll get somehwat of a \"prettier\" PDF. Go to File -> Download as -> PDF via LaTeX. You might have to install nbconvert and pandoc through conda; `conda install nbconvert pandoc`."
   ]
  },
  {
   "cell_type": "markdown",
   "metadata": {},
   "source": [
    "# Task 1"
   ]
  },
  {
   "cell_type": "markdown",
   "metadata": {},
   "source": [
    "## task 1a)\n",
    "\n",
    "## Logistic Regression\n",
    "\n",
    "From the assignment we are given that:\n",
    "\n",
    "\\begin{equation}\n",
    "    \\hat{y} = f(x) = \\frac{1}{1 + e^{-w^T x}}, \\quad w^T x = \\sum_{i=1}^{I} w_i x_i\n",
    "\\end{equation}\n",
    "\n",
    "\\begin{equation}\n",
    "    C(w) = \\frac{1}{N}\\sum_{n=1}^{N} C^n, \\quad C^n(w) = -\\left( y^n \\ln{(\\hat{y}^n)} + (1-\\hat{y}^n)\\ln{(1-\\hat{y}^n)} \\right)\n",
    "\\end{equation}\n",
    "\n",
    "We want to find the gradient of the cost function for training example n, $C^n$, with respect to the weight, $w_i$:\n",
    "\n",
    "\\begin{align}\n",
    "    \\frac{\\partial C^n(w)}{\\partial w_i} &= \\frac{\\partial C^n(w)}{\\partial f(x^n)} \\frac{\\partial f(x^n)}{\\partial w_i} \\\\\n",
    "\n",
    "    &= \\underbrace{-\\left(y^n \\frac{1}{\\hat{y}^n} + \\frac{1-y^n}{1-\\hat{y}^n}(-1)\\right)}_{\\frac{\\partial C^n(w)}{\\partial f(x^n)}} \\underbrace{x_i^n f(x^n) (1-f(x^n))}_{\\frac{\\partial f(x^n)}{\\partial w_i}}, \\quad f(x^n) = \\hat{y}^n \\\\\n",
    "\n",
    "    &= -\\left( y^n(1-\\hat{y}^n) - (1-y^n)\\hat{y}^n \\right) x_i^n \\\\\n",
    "\n",
    "    &= -(y^n-\\hat{y}^n) x_i^n\n",
    "\\end{align}\n",
    "\n",
    "## Softmax Regression\n",
    "\n",
    "From the assignment we have that:\n",
    "\n",
    "\\begin{equation}\n",
    "    \\hat{y}_k = \\frac{e^{z_k}}{\\sum_{k'=1}^{K} e^{z_{k'}}}, \\quad z_k = w_k^T x = \\sum_{i=1}^{I} w_{k,i} x_i\n",
    "\\end{equation}\n",
    "\n",
    "\\begin{equation}\n",
    "    C(w) = \\frac{1}{N}\\sum_{n=1}^{N} C^n, \\quad C^n(w) = - \\sum_{k=1}^{K} y_k^n \\ln{(\\hat{y}_k^n)}\n",
    "\\end{equation}\n",
    "\n",
    "We want to find the gradient of the cost function for training example n, $C^n$, with respect to the weight, $w_{kj}$:\n",
    "\n",
    "We start by rewriting the $C^n$ to another equivalent form\n",
    "\\begin{align*}\n",
    "    C^n(w) &= - \\sum_{k=1}^{K} y_k^n \\ln{\\left(\\frac{e^{z_k}}{\\sum_{k'=1}^{K} e^{z_{k'}}}\\right)} \\\\\n",
    "    &= -\\sum_{k=1}^{K} y_k^n \\ln{( e^{z_k})} + \\sum_{k=1}^{K} y_k^n \\ln{\\left( \\sum_{k'=1}^{K} e^{z_{k'}} \\right)} \\\\\n",
    "    &= -\\sum_{k=1}^{K} y_k^n \\underbrace{\\ln{( e^{z_k})}}_{z_k} + \\ln{\\left( \\sum_{k'=1}^{K} e^{z_{k'}} \\right)} \\underbrace{\\sum_{k=1}^{K} y_k^n}_{1}\n",
    "\\end{align*}\n",
    "\n",
    "\\begin{equation}\n",
    "    \\implies C^n(w) = -\\sum_{k=1}^{K} y_k^n z_k + \\ln{\\left( \\sum_{k'=1}^{K} e^{z_{k'}} \\right)}\n",
    "\\end{equation}\n",
    "\n",
    "\\begin{align*}\n",
    "    \\frac{\\partial C^n(w)}{\\partial w_{kj}} &= \\frac{\\partial C^n(w)}{\\partial z_k} \\frac{\\partial z_k}{\\partial w_{kj}} \\\\\n",
    "    &= \\left(-y_k^n + \\frac{e^{z_k}}{\\sum_{k'=1}^{K} e^{z_{k'}}}  \\right) x_j^n \\\\\n",
    "    &= (-y_k^n + \\hat{y}_k^n) x_j^n\n",
    "\\end{align*}\n",
    "\n",
    "\\begin{equation}\n",
    "    \\frac{\\partial C^n(w)}{\\partial w_{kj}} = -x_j^n (y_k^n - \\hat{y}_k^n)\n",
    "\\end{equation}"
   ]
  },
  {
   "source": [
    "## task 1a)\n",
    "Fill in task 1a image of hand-written notes which are easy to read, or latex equations here\n"
   ],
   "cell_type": "code",
   "metadata": {},
   "execution_count": 3,
   "outputs": [
    {
     "output_type": "error",
     "ename": "SyntaxError",
     "evalue": "unexpected character after line continuation character (<ipython-input-3-fb2ff956cd85>, line 3)",
     "traceback": [
      "\u001b[1;36m  File \u001b[1;32m\"<ipython-input-3-fb2ff956cd85>\"\u001b[1;36m, line \u001b[1;32m3\u001b[0m\n\u001b[1;33m    \\begin{equation}\u001b[0m\n\u001b[1;37m                    ^\u001b[0m\n\u001b[1;31mSyntaxError\u001b[0m\u001b[1;31m:\u001b[0m unexpected character after line continuation character\n"
     ]
    }
   ]
  },
  {
   "source": [
    "# Task 2"
   ],
   "cell_type": "code",
   "metadata": {},
   "execution_count": null,
   "outputs": []
  },
  {
   "cell_type": "markdown",
   "metadata": {},
   "source": [
    "## Task 2b)\n",
    "![](task2b_binary_train_loss.png)"
   ]
  },
  {
   "cell_type": "markdown",
   "metadata": {},
   "source": [
    "## Task 2c)\n",
    "![](task2b_binary_train_accuracy.png)"
   ]
  },
  {
   "cell_type": "markdown",
   "metadata": {},
   "source": [
    "## Task 2d)\n",
    "Early stopping occured on Epoch number 33."
   ]
  },
  {
   "cell_type": "markdown",
   "metadata": {},
   "source": [
    "## Task 2e)\n",
    "FILL IN ANSWER\n",
    "![](task2e_train_accuracy_shuffle_difference.png)"
   ]
  },
  {
   "cell_type": "markdown",
   "metadata": {},
   "source": [
    "# Task 3"
   ]
  },
  {
   "cell_type": "markdown",
   "metadata": {},
   "source": [
    "## Task 3b)\n",
    "![](task3b_softmax_train_loss.png)"
   ]
  },
  {
   "cell_type": "markdown",
   "metadata": {},
   "source": [
    "## Task 3c)\n",
    "![](task3b_softmax_train_accuracy.png)"
   ]
  },
  {
   "cell_type": "markdown",
   "metadata": {},
   "source": [
    "## Task 3d)\n",
    "FILL IN ANSWER"
   ]
  },
  {
   "cell_type": "markdown",
   "metadata": {},
   "source": [
    "# Task 4"
   ]
  },
  {
   "cell_type": "markdown",
   "metadata": {},
   "source": [
    "## Task 4a)\n",
    "\n",
    "Fill in image of hand-written notes which are easy to read, or latex equations here"
   ]
  },
  {
   "cell_type": "markdown",
   "metadata": {},
   "source": [
    "## Task 4b)\n",
    "FILL IN ANSWER\n",
    "\n",
    "![](task4b_softmax_weight.png)"
   ]
  },
  {
   "cell_type": "markdown",
   "metadata": {},
   "source": [
    "## Task 4c)\n",
    "FILL IN ANSWER\n",
    "\n",
    "![](task4c_l2_reg_accuracy.png)"
   ]
  },
  {
   "cell_type": "markdown",
   "metadata": {},
   "source": [
    "## Task 4d)\n",
    "![](task4d_l2_reg_norms.png)"
   ]
  },
  {
   "cell_type": "markdown",
   "metadata": {},
   "source": [
    "## Task 4e)\n",
    "FILL IN ANSWER"
   ]
  }
 ],
 "metadata": {
  "kernelspec": {
   "name": "python3",
   "display_name": "Python 3.6.8 64-bit",
   "metadata": {
    "interpreter": {
     "hash": "3aea90a6d45c734dfd5f85e7d38c2ff402076ae9ec13e218238e3f855656441d"
    }
   }
  },
  "language_info": {
   "codemirror_mode": {
    "name": "ipython",
    "version": 3
   },
   "file_extension": ".py",
   "mimetype": "text/x-python",
   "name": "python",
   "nbconvert_exporter": "python",
   "pygments_lexer": "ipython3",
   "version": "3.6.8-final"
  }
 },
 "nbformat": 4,
 "nbformat_minor": 4
}