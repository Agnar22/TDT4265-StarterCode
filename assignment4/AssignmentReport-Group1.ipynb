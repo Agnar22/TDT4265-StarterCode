{
 "cells": [
  {
   "cell_type": "markdown",
   "metadata": {},
   "source": [
    "# Assignment 1 Report"
   ]
  },
  {
   "cell_type": "markdown",
   "metadata": {},
   "source": [
    "This is an outline for your report to ease the amount of work required to create your report. Jupyter notebook supports markdown, and I recommend you to check out this [cheat sheet](https://github.com/adam-p/markdown-here/wiki/Markdown-Cheatsheet). If you are not familiar with markdown.\n",
    "\n",
    "Before delivery, **remember to convert this file to PDF**. You can do it in two ways:\n",
    "1. Print the webpage (ctrl+P or cmd+P)\n",
    "2. Export with latex. This is somewhat more difficult, but you'll get somehwat of a \"prettier\" PDF. Go to File -> Download as -> PDF via LaTeX. You might have to install nbconvert and pandoc through conda; `conda install nbconvert pandoc`."
   ]
  },
  {
   "cell_type": "markdown",
   "metadata": {},
   "source": [
    "# Task 1"
   ]
  },
  {
   "cell_type": "markdown",
   "metadata": {},
   "source": [
    "## task 1a)\n",
    "\n",
    "In the following figure, the predicted bounding box is given in red, while the true bounding box is given in blue. The area of intersection between the bounding boxes is given in black, while the union of the bounding boxes is the grey area + the black area. The intersection over union is now given as the area of intersection divided by the area of the union. (The black area /(black area + grey area))\n",
    "![](task1a.png)"
   ]
  },
  {
   "cell_type": "markdown",
   "metadata": {},
   "source": [
    "## task 1b)\n",
    "\n",
    "\\begin{equation}\n",
    "    Recall = \\frac{TP}{TP + FP}\n",
    "\\end{equation}\n",
    "\\begin{equation}\n",
    "    Precision = \\frac{TP}{TP + FN}\n",
    "\\end{equation}\n",
    "Where TP are the true positives, FP the false positive and FN the false negatives.\n",
    "A true postive is a correct prediction, while a false positive is when you predict the presence of an object, which actually is not there. A false negative (skal vi ha med dette?) is when you fail to predict the presence of an object that is present.\n",
    "\n",
    "## task 1c)\n",
    "\n",
    "From the assignment we are given the following precision and recall levels for the two classes:\n",
    "\n",
    "\\begin{align*}\n",
    "    \\mathrm{Class\\: 1:} \\\\\n",
    "    \\mathrm{Precision_1} &= \\left[1.0, 1.0, 1.0, 0.5, 0.20 \\right] \\\\\n",
    "    \\mathrm{Recall_1} &= \\left[0.05, 0.1, 0.4, 0.7, 1.0 \\right] \\\\\n",
    "\\end{align*}\n",
    "\\begin{align*}\n",
    "    \\mathrm{Class\\: 2:} \\\\\n",
    "    \\mathrm{Precision_2} &= \\left[1.0, 0.80, 0.60, 0.5, 0.20 \\right] \\\\\n",
    "    \\mathrm{Recall_2} &= \\left[0.3, 0.4, 0.5, 0.7, 1.0 \\right] \\\\\n",
    "\\end{align*}\n",
    "\n",
    "The average precision, AP, is given by the following formula:\n",
    "\n",
    "\\begin{align*}\n",
    "    AP &= \\frac{1}{11} \\sum_{r \\in \\left\\{0, 0.1, ..., 1 \\right\\}} p_{interp}(r), \\\\\n",
    "    p_{interp}(r) &= \\max_{\\tilde{r}:\\tilde{r} \\geq r} p(\\tilde{r})\n",
    "\\end{align*}\n",
    "\n",
    "Using this formula, we get the following AP for the two classes:\n",
    "\n",
    "\\begin{align*}\n",
    "    AP_1 &= \\frac{1}{11} \\left(1 + 1 + 1 + 1 + 1 + 0.5 + 0.5 + 0.5 + 0.20 + 0.20 + 0.20 \\right) = 0.645 \\\\\n",
    "    AP_2 &= \\frac{1}{11} \\left(1 + 1 + 1 + 1 + 0.80 + 0.60 + 0.5 + 0.5 + 0.20 + 0.20 + 0.20 \\right) = 0.636\n",
    "\\end{align*}\n",
    "The mean average precision (mAP) is then the average AP over the classes, given mathematically by:\n",
    "\n",
    "\\begin{equation}\n",
    "    mAP = \\frac{1}{N} \\sum_{i=1}^N AP_i,\n",
    "\\end{equation}\n",
    "where $N$ is the number of classes and $i$ the class number. Using this we get the mAP as:\n",
    "\n",
    "\\begin{equation}\n",
    "    mAP = \\frac{1}{2} (0.645 + 0.636) = \\underline{0.641}\n",
    "\\end{equation}\n",
    "so the mAP for the two classes is 0.641\n"
   ]
  },
  {
   "cell_type": "markdown",
   "metadata": {},
   "source": [
    "# Task 2\n",
    "\n",
    "### Task 2f)\n",
    "![](task2/precision_recall_curve.png)"
   ]
  },
  {
   "cell_type": "markdown",
   "metadata": {},
   "source": [
    "# Task 3"
   ]
  },
  {
   "cell_type": "markdown",
   "metadata": {},
   "source": [
    "### Task 3a)\n",
    "The filter opeartion for overlapping boxes in SSD is called non-maximum suppression (nms).\n",
    "\n",
    "### Task 3b)\n",
    "It is false. The deeper layers have lower resolution, which causes it to detect larger objects.\n",
    "\n",
    "### Task 3c)\n",
    "Different bounding box aspect ratios are used, because there can be large interclass variations in the optimal bounding box aspect ratio, but small intraclass variations. By using different bounding box aspect ratios at the same spatial location, you are more likely to be able to detect different classes at the spatial location and not just optimize for a single class.\n",
    "\n",
    "\n",
    "### Task 3d)\n",
    "The main difference is that SSD uses multiple convolutional layers at the end of the network to predict detections at difference scales, while the YOLO network uses fully connected layer for this stage instead.\n",
    "\n",
    "### Task 3e)\n",
    "Fill in task 1a image of hand-written notes which are easy to read, or latex equations here\n",
    "\n",
    "### Task 3f)\n",
    "Fill in task 1a image of hand-written notes which are easy to read, or latex equations here\n"
   ]
  },
  {
   "cell_type": "markdown",
   "metadata": {},
   "source": [
    "# Task 4"
   ]
  },
  {
   "cell_type": "markdown",
   "metadata": {},
   "source": [
    "## Task 4b)\n",
    "\n",
    "FILL IN ANSWER. \n",
    "\n",
    "## Task 4c)\n",
    "FILL IN ANSWER. \n",
    "\n",
    "\n",
    "## Task 4d)\n",
    "FILL IN ANSWER. \n",
    "\n",
    "\n",
    "## Task 4e)\n",
    "FILL IN ANSWER. \n",
    "\n",
    "\n",
    "## Task 4f)\n",
    "FILL IN ANSWER. "
   ]
  }
 ],
 "metadata": {
  "kernelspec": {
   "display_name": "Python 3.8.1 64-bit ('py38': conda)",
   "language": "python",
   "name": "python38164bitpy38condac1f68ca5407a4349b0d7e37676f2fbb3"
  },
  "language_info": {
   "codemirror_mode": {
    "name": "ipython",
    "version": 3
   },
   "file_extension": ".py",
   "mimetype": "text/x-python",
   "name": "python",
   "nbconvert_exporter": "python",
   "pygments_lexer": "ipython3",
   "version": "3.8.1"
  }
 },
 "nbformat": 4,
 "nbformat_minor": 4
}